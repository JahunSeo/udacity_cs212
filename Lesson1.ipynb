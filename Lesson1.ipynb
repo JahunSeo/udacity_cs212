{
 "cells": [
  {
   "cell_type": "markdown",
   "metadata": {},
   "source": [
    "# CS212: Design of Computer Program\n",
    "## Lesson 1"
   ]
  },
  {
   "cell_type": "markdown",
   "metadata": {},
   "source": [
    "### 1.2. About the class\n",
    "The first function is as valid as the second one, but the second one is more stylish.  \n",
    "We gonna learn how to write code with design of program in mind."
   ]
  },
  {
   "cell_type": "code",
   "execution_count": 6,
   "metadata": {},
   "outputs": [
    {
     "data": {
      "text/plain": [
       "(14, 14)"
      ]
     },
     "execution_count": 6,
     "metadata": {},
     "output_type": "execute_result"
    }
   ],
   "source": [
    "def ss_1(nums):\n",
    "    total = 0\n",
    "    for x in nums:\n",
    "        total += x**2\n",
    "    return total\n",
    "\n",
    "def ss_2(nums):\n",
    "    return sum(x**2 for x in nums)\n",
    "\n",
    "ss_1([1,2,3]), ss_2([1,2,3])"
   ]
  },
  {
   "cell_type": "markdown",
   "metadata": {},
   "source": [
    "### 1.3. Outlining the problem\n",
    "In this unit, we are going to talk about how to write a poker program."
   ]
  },
  {
   "cell_type": "markdown",
   "metadata": {},
   "source": [
    "### 1.4. Representing hands"
   ]
  },
  {
   "cell_type": "code",
   "execution_count": 7,
   "metadata": {},
   "outputs": [],
   "source": [
    "way1 = [\"JS\", \"JD\", \"2S\", \"2C\", \"7H\"] # good\n",
    "way2 = [(11,\"S\"), (11,\"D\"), (2, \"S\"), (2, \"C\"), (7, \"H\")] # good\n",
    "way3 = set([\"JS\", \"JD\", \"2S\", \"2C\", \"7H\"]) # no\n",
    "way4 = \"JS JD 2S 2C 7H\" # nope"
   ]
  },
  {
   "cell_type": "markdown",
   "metadata": {},
   "source": [
    "Note: \"JS\" refers to the card Jack of Spades."
   ]
  }
 ],
 "metadata": {
  "kernelspec": {
   "display_name": "Python 3",
   "language": "python",
   "name": "python3"
  },
  "language_info": {
   "codemirror_mode": {
    "name": "ipython",
    "version": 3
   },
   "file_extension": ".py",
   "mimetype": "text/x-python",
   "name": "python",
   "nbconvert_exporter": "python",
   "pygments_lexer": "ipython3",
   "version": "3.7.3"
  }
 },
 "nbformat": 4,
 "nbformat_minor": 2
}
