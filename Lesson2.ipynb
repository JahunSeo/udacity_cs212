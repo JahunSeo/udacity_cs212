{
 "cells": [
  {
   "cell_type": "markdown",
   "metadata": {},
   "source": [
    "# CS212: Design of Computer Program\n",
    "## Lesson2: Bonus: Shuffling"
   ]
  },
  {
   "cell_type": "code",
   "execution_count": 1,
   "metadata": {},
   "outputs": [],
   "source": [
    "import random"
   ]
  },
  {
   "cell_type": "code",
   "execution_count": 4,
   "metadata": {},
   "outputs": [],
   "source": [
    "def deal(numhands, n=5, deck=[r+s for r in \"23456789TJQKA\" for s in \"SHDC\"]):\n",
    "    \"Shuffle the deck and deal out numhands n-card hands.\"\n",
    "    # print(\"before shuffle \", deck)\n",
    "    random.shuffle(deck)\n",
    "    # print(\"after shuffle\", deck)\n",
    "    return [deck[n*i:n*(i+1)] for i in range(numhands)]"
   ]
  },
  {
   "cell_type": "code",
   "execution_count": 7,
   "metadata": {},
   "outputs": [
    {
     "data": {
      "text/plain": [
       "[['AH', 'KH', '2C', 'KC', 'AC', '4C', '8D'],\n",
       " ['5D', '6D', '4D', '9C', 'TD', '3H', 'KS'],\n",
       " ['JD', '2D', 'AS', '6C', '5S', '7D', '3C']]"
      ]
     },
     "execution_count": 7,
     "metadata": {},
     "output_type": "execute_result"
    }
   ],
   "source": [
    "deal(3, 7)"
   ]
  },
  {
   "cell_type": "markdown",
   "metadata": {},
   "source": [
    "### 1.3. Good shuffle"
   ]
  },
  {
   "cell_type": "code",
   "execution_count": 14,
   "metadata": {},
   "outputs": [],
   "source": [
    "def shuffle(deck):\n",
    "    \"Knuth's Algorithm P.\"\n",
    "    print(deck)\n",
    "    N = len(deck)\n",
    "    for i in range(N-1):\n",
    "        swap(deck, i, random.randrange(i, N)) # return a randomly selected element from range(start, stop, step). It\n",
    "    print(deck)\n",
    "\n",
    "def swap(deck, i, j):\n",
    "    \"Swap elements i and j of a collection.\"\n",
    "    print(\"swap\", i, j)\n",
    "    deck[i], deck[j] = deck[j], deck[i]"
   ]
  },
  {
   "cell_type": "code",
   "execution_count": 15,
   "metadata": {},
   "outputs": [
    {
     "name": "stdout",
     "output_type": "stream",
     "text": [
      "[1, 2, 3]\n",
      "swap 0 2\n",
      "swap 1 1\n",
      "[3, 2, 1]\n"
     ]
    }
   ],
   "source": [
    "shuffle([1,2,3])"
   ]
  },
  {
   "cell_type": "code",
   "execution_count": null,
   "metadata": {},
   "outputs": [],
   "source": []
  }
 ],
 "metadata": {
  "kernelspec": {
   "display_name": "Python 3",
   "language": "python",
   "name": "python3"
  },
  "language_info": {
   "codemirror_mode": {
    "name": "ipython",
    "version": 3
   },
   "file_extension": ".py",
   "mimetype": "text/x-python",
   "name": "python",
   "nbconvert_exporter": "python",
   "pygments_lexer": "ipython3",
   "version": "3.7.3"
  }
 },
 "nbformat": 4,
 "nbformat_minor": 2
}
