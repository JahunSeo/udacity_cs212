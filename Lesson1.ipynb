{
 "cells": [
  {
   "cell_type": "markdown",
   "metadata": {},
   "source": [
    "# CS212: Design of Computer Program\n",
    "## Lesson 1"
   ]
  },
  {
   "cell_type": "markdown",
   "metadata": {},
   "source": [
    "### 1.2. About the class\n",
    "The first function is as valid as the second one, but the second one is more stylish.  \n",
    "We gonna learn how to write code with design of program in mind."
   ]
  },
  {
   "cell_type": "code",
   "execution_count": 6,
   "metadata": {},
   "outputs": [
    {
     "data": {
      "text/plain": [
       "(14, 14)"
      ]
     },
     "execution_count": 6,
     "metadata": {},
     "output_type": "execute_result"
    }
   ],
   "source": [
    "def ss_1(nums):\n",
    "    total = 0\n",
    "    for x in nums:\n",
    "        total += x**2\n",
    "    return total\n",
    "\n",
    "def ss_2(nums):\n",
    "    return sum(x**2 for x in nums)\n",
    "\n",
    "ss_1([1,2,3]), ss_2([1,2,3])"
   ]
  },
  {
   "cell_type": "markdown",
   "metadata": {},
   "source": [
    "### 1.3. Outlining the problem\n",
    "In this unit, we are going to talk about how to write a poker program."
   ]
  },
  {
   "cell_type": "markdown",
   "metadata": {},
   "source": [
    "### 1.4. Representing hands"
   ]
  },
  {
   "cell_type": "code",
   "execution_count": 8,
   "metadata": {},
   "outputs": [],
   "source": [
    "way1 = [\"JS\", \"JD\", \"2S\", \"2C\", \"7H\"] # good\n",
    "way2 = [(11,\"S\"), (11,\"D\"), (2, \"S\"), (2, \"C\"), (7, \"H\")] # good\n",
    "\n",
    "way3 = set([\"JS\", \"JD\", \"2S\", \"2C\", \"7H\"]) # no\n",
    "way4 = \"JS JD 2S 2C 7H\" # nope"
   ]
  },
  {
   "cell_type": "markdown",
   "metadata": {},
   "source": [
    "Note: \"JS\" refers to the card Jack of Spades. Five cards together form a hand."
   ]
  },
  {
   "cell_type": "markdown",
   "metadata": {},
   "source": [
    "### 1.5.~1.7. Poker function ~ Using max\n",
    "Modify the poker() function to return the best hand according to the hand_rank function. "
   ]
  },
  {
   "cell_type": "code",
   "execution_count": 16,
   "metadata": {},
   "outputs": [
    {
     "name": "stdout",
     "output_type": "stream",
     "text": [
      "5 -5\n"
     ]
    }
   ],
   "source": [
    "def poker(hands):\n",
    "    \"Return the best hand: poker([hand, hand, ...]) => hand\"\n",
    "    return max(hands, key=hand_rank)\n",
    "def hand_rank(hand):\n",
    "    return 0 # we will be changing this later.\n",
    "\n",
    "## for understanding max\n",
    "print(max([3,4,5,0]), max([3,4,-5,0], key=abs))"
   ]
  },
  {
   "cell_type": "markdown",
   "metadata": {},
   "source": [
    "### 1.8. Testing\n",
    "Testing is a vital part of software development.  \n",
    "It's important that each part of the specification gets turned into a piece of code that implements it and a test that tests it. If you don't have tests like below, then you don't know when you're done, and you won't know if you've done it right, and you won't have confidence that any future changes might not be breaking something.  \n",
    "So remember, to be a good programmer, you must be a good tester. Write your test cases and test them often.  \n",
    "  \n",
    "for more info about **assert** statement, [here](https://wiki.python.org/moin/UsingAssertionsEffectively)"
   ]
  },
  {
   "cell_type": "code",
   "execution_count": 24,
   "metadata": {},
   "outputs": [
    {
     "name": "stdout",
     "output_type": "stream",
     "text": [
      "tests pass\n"
     ]
    }
   ],
   "source": [
    "def test():\n",
    "    \"Test cases for the functions in poker program\"\n",
    "    sf = \"6C 7C 8C 9C TC\".split() # Straight Flush,  => ['6C', '7C', '8C', '9C', 'TC']\n",
    "    fk = \"9D 9H 9S 9C 7D\".split() # Four of a Kind\n",
    "    fh = \"TD TC TH 7C 7D\".split() # Full House\n",
    "    \n",
    "    assert poker([sf, fk, fh]) == sf\n",
    "    assert poker([fk, fh]) == fk\n",
    "    assert poker([fh, fh]) == fh\n",
    "    # 1.9. Extreme Values\n",
    "    assert poker([sf]) == sf # when poker is called with a single hand\n",
    "    assert poker([sf]+[fh]*99) == sf # check for the case of 100 hands\n",
    "    return \"tests pass\"\n",
    "\n",
    "print(test())\n"
   ]
  },
  {
   "cell_type": "code",
   "execution_count": null,
   "metadata": {},
   "outputs": [],
   "source": []
  }
 ],
 "metadata": {
  "kernelspec": {
   "display_name": "Python 3",
   "language": "python",
   "name": "python3"
  },
  "language_info": {
   "codemirror_mode": {
    "name": "ipython",
    "version": 3
   },
   "file_extension": ".py",
   "mimetype": "text/x-python",
   "name": "python",
   "nbconvert_exporter": "python",
   "pygments_lexer": "ipython3",
   "version": "3.6.5"
  }
 },
 "nbformat": 4,
 "nbformat_minor": 2
}
